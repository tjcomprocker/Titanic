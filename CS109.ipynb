{
 "cells": [
  {
   "cell_type": "code",
   "execution_count": 14,
   "metadata": {},
   "outputs": [],
   "source": [
    "import pandas as pd"
   ]
  },
  {
   "cell_type": "code",
   "execution_count": 15,
   "metadata": {},
   "outputs": [
    {
     "data": {
      "text/html": [
       "<div>\n",
       "<style scoped>\n",
       "    .dataframe tbody tr th:only-of-type {\n",
       "        vertical-align: middle;\n",
       "    }\n",
       "\n",
       "    .dataframe tbody tr th {\n",
       "        vertical-align: top;\n",
       "    }\n",
       "\n",
       "    .dataframe thead th {\n",
       "        text-align: right;\n",
       "    }\n",
       "</style>\n",
       "<table border=\"1\" class=\"dataframe\">\n",
       "  <thead>\n",
       "    <tr style=\"text-align: right;\">\n",
       "      <th></th>\n",
       "      <th>Survived</th>\n",
       "      <th>Pclass</th>\n",
       "      <th>Name</th>\n",
       "      <th>Sex</th>\n",
       "      <th>Age</th>\n",
       "      <th>Siblings/Spouses Aboard</th>\n",
       "      <th>Parents/Children Aboard</th>\n",
       "      <th>Fare</th>\n",
       "    </tr>\n",
       "  </thead>\n",
       "  <tbody>\n",
       "    <tr>\n",
       "      <th>0</th>\n",
       "      <td>0</td>\n",
       "      <td>3</td>\n",
       "      <td>Mr. Owen Harris Braund</td>\n",
       "      <td>male</td>\n",
       "      <td>22.0</td>\n",
       "      <td>1</td>\n",
       "      <td>0</td>\n",
       "      <td>7.2500</td>\n",
       "    </tr>\n",
       "    <tr>\n",
       "      <th>1</th>\n",
       "      <td>1</td>\n",
       "      <td>1</td>\n",
       "      <td>Mrs. John Bradley (Florence Briggs Thayer) Cum...</td>\n",
       "      <td>female</td>\n",
       "      <td>38.0</td>\n",
       "      <td>1</td>\n",
       "      <td>0</td>\n",
       "      <td>71.2833</td>\n",
       "    </tr>\n",
       "    <tr>\n",
       "      <th>2</th>\n",
       "      <td>1</td>\n",
       "      <td>3</td>\n",
       "      <td>Miss. Laina Heikkinen</td>\n",
       "      <td>female</td>\n",
       "      <td>26.0</td>\n",
       "      <td>0</td>\n",
       "      <td>0</td>\n",
       "      <td>7.9250</td>\n",
       "    </tr>\n",
       "    <tr>\n",
       "      <th>3</th>\n",
       "      <td>1</td>\n",
       "      <td>1</td>\n",
       "      <td>Mrs. Jacques Heath (Lily May Peel) Futrelle</td>\n",
       "      <td>female</td>\n",
       "      <td>35.0</td>\n",
       "      <td>1</td>\n",
       "      <td>0</td>\n",
       "      <td>53.1000</td>\n",
       "    </tr>\n",
       "    <tr>\n",
       "      <th>4</th>\n",
       "      <td>0</td>\n",
       "      <td>3</td>\n",
       "      <td>Mr. William Henry Allen</td>\n",
       "      <td>male</td>\n",
       "      <td>35.0</td>\n",
       "      <td>0</td>\n",
       "      <td>0</td>\n",
       "      <td>8.0500</td>\n",
       "    </tr>\n",
       "  </tbody>\n",
       "</table>\n",
       "</div>"
      ],
      "text/plain": [
       "   Survived  Pclass                                               Name  \\\n",
       "0         0       3                             Mr. Owen Harris Braund   \n",
       "1         1       1  Mrs. John Bradley (Florence Briggs Thayer) Cum...   \n",
       "2         1       3                              Miss. Laina Heikkinen   \n",
       "3         1       1        Mrs. Jacques Heath (Lily May Peel) Futrelle   \n",
       "4         0       3                            Mr. William Henry Allen   \n",
       "\n",
       "      Sex   Age  Siblings/Spouses Aboard  Parents/Children Aboard     Fare  \n",
       "0    male  22.0                        1                        0   7.2500  \n",
       "1  female  38.0                        1                        0  71.2833  \n",
       "2  female  26.0                        0                        0   7.9250  \n",
       "3  female  35.0                        1                        0  53.1000  \n",
       "4    male  35.0                        0                        0   8.0500  "
      ]
     },
     "execution_count": 15,
     "metadata": {},
     "output_type": "execute_result"
    }
   ],
   "source": [
    "df = pd.read_csv(\"titanic.csv\")\n",
    "df.head()"
   ]
  },
  {
   "cell_type": "code",
   "execution_count": 64,
   "metadata": {},
   "outputs": [
    {
     "name": "stdout",
     "output_type": "stream",
     "text": [
      "p(Survived=true | Sex=female and Pclass=1) = 0.968085106383\n",
      "p(Survived=true | Sex=female and Pclass=2) = 0.921052631579\n"
     ]
    }
   ],
   "source": [
    "p1_a = 0\n",
    "p1_b = 0\n",
    "p2_a = 0\n",
    "p2_b = 0\n",
    "for index, rows in df.iterrows():\n",
    "    if rows['Sex'] == 'female' and rows['Pclass'] == 1:\n",
    "        p1_b += 1\n",
    "        if rows['Survived'] == 1:\n",
    "            p1_a += 1\n",
    "    \n",
    "    if rows['Sex'] == 'female' and rows['Pclass'] == 2:\n",
    "        p2_b += 1\n",
    "        if rows['Survived'] == 1:\n",
    "            p2_a += 1\n",
    "\n",
    "print \"p(Survived=true | Sex=female and Pclass=1) = \"+str(float(p1_a)/p1_b)\n",
    "print \"p(Survived=true | Sex=female and Pclass=2) = \"+str(float(p2_a)/p2_b)\n"
   ]
  },
  {
   "cell_type": "code",
   "execution_count": 65,
   "metadata": {},
   "outputs": [
    {
     "name": "stdout",
     "output_type": "stream",
     "text": [
      "p(Survived=true | A<=10 and Pclass=3) = 0.415094339623\n",
      "p(Survived=true | A<=10 and Pclass=3) = 0.415094339623\n"
     ]
    }
   ],
   "source": [
    "p1_a = 0\n",
    "p1_b = 0\n",
    "p2_a = 0\n",
    "p2_b = 0\n",
    "p3_a = 0\n",
    "p3_b = 0\n",
    "p4_a = 0\n",
    "p4_b = 0\n",
    "\n",
    "for index, rows in df.iterrows():\n",
    "    if rows['Survived'] == 1:\n",
    "        p1_b += 1\n",
    "        if rows['Age'] <= 10.0 and rows['Pclass'] == 3:\n",
    "            p1_a += 1\n",
    "       \n",
    "    p2_b += 1\n",
    "    p2_a = p1_b\n",
    "    \n",
    "    if rows['Age'] <= 10.0 and rows['Pclass'] == 3:\n",
    "        p3_a += 1\n",
    "    p3_b = p2_b\n",
    "    \n",
    "    if rows['Age'] <= 10.0 and rows['Pclass'] == 3 and rows['Survived'] == 1:\n",
    "        p4_a += 1\n",
    "    p4_b = p2_b    \n",
    "\n",
    "p1 = float(p1_a)/p1_b    \n",
    "p2 = float(p2_a)/p2_b  \n",
    "p3 = float(p3_a)/p3_b  \n",
    "p4 = float(p4_a)/p4_b\n",
    "print \"p(Survived=true | A<=10 and Pclass=3) = \"+str((p1*p2)/p3)\n",
    "print \"p(Survived=true | A<=10 and Pclass=3) = \"+str(p4/p3)"
   ]
  },
  {
   "cell_type": "code",
   "execution_count": 76,
   "metadata": {},
   "outputs": [
    {
     "name": "stdout",
     "output_type": "stream",
     "text": [
      "Expectation = 84.1546875\n"
     ]
    }
   ],
   "source": [
    "x_dict = {}\n",
    "\n",
    "for index, rows in df.iterrows():\n",
    "    if rows['Pclass'] == 1 and (rows['Fare'] not in x_dict):\n",
    "        x_dict[rows['Fare']] = 0\n",
    "\n",
    "p_class = 0\n",
    "for index, rows in df.iterrows():\n",
    "    if rows['Pclass'] == 1:\n",
    "        p_class += 1\n",
    "        x_dict[rows['Fare']] += 1\n",
    "\n",
    "expectation = 0\n",
    "for fare in x_dict.keys():\n",
    "        expectation += fare*(float(x_dict[fare])/p_class)\n",
    "\n",
    "print \"Expectation = \"+str(expectation)"
   ]
  }
 ],
 "metadata": {
  "kernelspec": {
   "display_name": "Python 2",
   "language": "python",
   "name": "python2"
  },
  "language_info": {
   "codemirror_mode": {
    "name": "ipython",
    "version": 2
   },
   "file_extension": ".py",
   "mimetype": "text/x-python",
   "name": "python",
   "nbconvert_exporter": "python",
   "pygments_lexer": "ipython2",
   "version": "2.7.10"
  }
 },
 "nbformat": 4,
 "nbformat_minor": 2
}
